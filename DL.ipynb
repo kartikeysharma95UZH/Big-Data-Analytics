{
 "cells": [
  {
   "cell_type": "markdown",
   "metadata": {},
   "source": [
    "# Deep Learning Method: LSTM Method"
   ]
  },
  {
   "cell_type": "code",
   "execution_count": 1,
   "metadata": {},
   "outputs": [
    {
     "output_type": "stream",
     "name": "stderr",
     "text": [
      "Using TensorFlow backend.\n"
     ]
    }
   ],
   "source": [
    "import numpy\n",
    "import matplotlib.pyplot as plt\n",
    "import pandas as pd\n",
    "import math\n",
    "from keras.models import Sequential\n",
    "from keras.layers import Dense, Dropout\n",
    "from keras.layers import LSTM\n",
    "from sklearn.preprocessing import MinMaxScaler\n",
    "from sklearn.metrics import mean_squared_error"
   ]
  },
  {
   "cell_type": "code",
   "execution_count": 19,
   "metadata": {},
   "outputs": [
    {
     "data": {
      "text/html": [
       "<div>\n",
       "<style scoped>\n",
       "    .dataframe tbody tr th:only-of-type {\n",
       "        vertical-align: middle;\n",
       "    }\n",
       "\n",
       "    .dataframe tbody tr th {\n",
       "        vertical-align: top;\n",
       "    }\n",
       "\n",
       "    .dataframe thead th {\n",
       "        text-align: right;\n",
       "    }\n",
       "</style>\n",
       "<table border=\"1\" class=\"dataframe\">\n",
       "  <thead>\n",
       "    <tr style=\"text-align: right;\">\n",
       "      <th></th>\n",
       "      <th>Coal.SA</th>\n",
       "    </tr>\n",
       "  </thead>\n",
       "  <tbody>\n",
       "    <tr>\n",
       "      <th>0</th>\n",
       "      <td>31.0</td>\n",
       "    </tr>\n",
       "    <tr>\n",
       "      <th>1</th>\n",
       "      <td>31.0</td>\n",
       "    </tr>\n",
       "    <tr>\n",
       "      <th>2</th>\n",
       "      <td>31.0</td>\n",
       "    </tr>\n",
       "    <tr>\n",
       "      <th>3</th>\n",
       "      <td>31.0</td>\n",
       "    </tr>\n",
       "    <tr>\n",
       "      <th>4</th>\n",
       "      <td>31.0</td>\n",
       "    </tr>\n",
       "  </tbody>\n",
       "</table>\n",
       "</div>"
      ],
      "text/plain": [
       "   Coal.SA\n",
       "0     31.0\n",
       "1     31.0\n",
       "2     31.0\n",
       "3     31.0\n",
       "4     31.0"
      ]
     },
     "execution_count": 19,
     "metadata": {},
     "output_type": "execute_result"
    }
   ],
   "source": [
    "# load the dataset\n",
    "df = pd.read_csv(\"coal-25082020.csv\")\n",
    "df=df.drop(['Copper','Date','Gold','Silver','IronOre','Coal.Australia','CrudeOil','Fuel.Index','NaturalGas','Coal.Producer.Index','CrudeOil.Index','Metal.Index','NonFuel.Index','Commodity.Index','CLI','CCI','BCI'], axis=1)\n",
    "df.head()"
   ]
  },
  {
   "cell_type": "code",
   "execution_count": 20,
   "metadata": {},
   "outputs": [],
   "source": [
    "dataset = df.values"
   ]
  },
  {
   "cell_type": "code",
   "execution_count": 21,
   "metadata": {},
   "outputs": [],
   "source": [
    "# normalize the dataset\n",
    "scaler = MinMaxScaler(feature_range=(0, 1))\n",
    "dataset = scaler.fit_transform(dataset)"
   ]
  },
  {
   "cell_type": "code",
   "execution_count": 22,
   "metadata": {},
   "outputs": [
    {
     "data": {
      "text/plain": [
       "343"
      ]
     },
     "execution_count": 22,
     "metadata": {},
     "output_type": "execute_result"
    }
   ],
   "source": [
    "len(dataset)"
   ]
  },
  {
   "cell_type": "code",
   "execution_count": 45,
   "metadata": {},
   "outputs": [
    {
     "name": "stdout",
     "output_type": "stream",
     "text": [
      "288 55\n"
     ]
    }
   ],
   "source": [
    "train_size = int(len(dataset) * 0.84)\n",
    "test_size = len(dataset) - train_size\n",
    "train, test = dataset[0:train_size,:], dataset[train_size:len(dataset),:]\n",
    "print(len(train), len(test))"
   ]
  },
  {
   "cell_type": "code",
   "execution_count": 46,
   "metadata": {},
   "outputs": [],
   "source": [
    "# convert an array of values into a dataset matrix\n",
    "def create_dataset(dataset, t=1):\n",
    "    dataX, dataY = [], []\n",
    "    for i in range(len(dataset)-t-1):\n",
    "        a = dataset[i:(i+t), 0]\n",
    "        dataX.append(a)\n",
    "        dataY.append(dataset[i + t, 0])\n",
    "    return numpy.array(dataX), numpy.array(dataY)\n",
    "\n",
    "# reshape into X=t and Y=t+1\n",
    "t = 1\n",
    "trainX, trainY = create_dataset(train, t)\n",
    "testX, testY = create_dataset(test, t)"
   ]
  },
  {
   "cell_type": "code",
   "execution_count": 47,
   "metadata": {},
   "outputs": [],
   "source": [
    "# reshape input to be [samples, time steps, features]\n",
    "trainX = numpy.reshape(trainX, (trainX.shape[0], 1, trainX.shape[1]))\n",
    "testX = numpy.reshape(testX, (testX.shape[0], 1, testX.shape[1]))"
   ]
  },
  {
   "cell_type": "code",
   "execution_count": 48,
   "metadata": {},
   "outputs": [
    {
     "name": "stdout",
     "output_type": "stream",
     "text": [
      "Model: \"sequential_6\"\n",
      "_________________________________________________________________\n",
      "Layer (type)                 Output Shape              Param #   \n",
      "=================================================================\n",
      "lstm_6 (LSTM)                (None, 4)                 96        \n",
      "_________________________________________________________________\n",
      "dense_6 (Dense)              (None, 1)                 5         \n",
      "=================================================================\n",
      "Total params: 101\n",
      "Trainable params: 101\n",
      "Non-trainable params: 0\n",
      "_________________________________________________________________\n"
     ]
    }
   ],
   "source": [
    "model = Sequential()\n",
    "model.add(LSTM(4, input_shape=(1, t)))\n",
    "model.add(Dense(1))\n",
    "model.compile(loss='mse', optimizer='adam')\n",
    "model.summary()"
   ]
  },
  {
   "cell_type": "code",
   "execution_count": 49,
   "metadata": {},
   "outputs": [
    {
     "name": "stdout",
     "output_type": "stream",
     "text": [
      "Epoch 1/30\n",
      "286/286 [==============================] - 2s 7ms/step - loss: 0.0677\n",
      "Epoch 2/30\n",
      "286/286 [==============================] - 2s 6ms/step - loss: 0.0431\n",
      "Epoch 3/30\n",
      "286/286 [==============================] - 2s 6ms/step - loss: 0.0370\n",
      "Epoch 4/30\n",
      "286/286 [==============================] - 2s 6ms/step - loss: 0.0319\n",
      "Epoch 5/30\n",
      "286/286 [==============================] - 2s 6ms/step - loss: 0.0264\n",
      "Epoch 6/30\n",
      "286/286 [==============================] - 2s 8ms/step - loss: 0.0201\n",
      "Epoch 7/30\n",
      "286/286 [==============================] - 2s 6ms/step - loss: 0.0122\n",
      "Epoch 8/30\n",
      "286/286 [==============================] - 2s 5ms/step - loss: 0.0045\n",
      "Epoch 9/30\n",
      "286/286 [==============================] - 2s 5ms/step - loss: 0.0015\n",
      "Epoch 10/30\n",
      "286/286 [==============================] - 2s 5ms/step - loss: 0.0011\n",
      "Epoch 11/30\n",
      "286/286 [==============================] - 2s 6ms/step - loss: 0.0011\n",
      "Epoch 12/30\n",
      "286/286 [==============================] - 2s 5ms/step - loss: 0.0011\n",
      "Epoch 13/30\n",
      "286/286 [==============================] - 2s 6ms/step - loss: 0.0011\n",
      "Epoch 14/30\n",
      "286/286 [==============================] - 2s 6ms/step - loss: 0.0011\n",
      "Epoch 15/30\n",
      "286/286 [==============================] - 2s 5ms/step - loss: 0.0011\n",
      "Epoch 16/30\n",
      "286/286 [==============================] - 2s 6ms/step - loss: 0.0011\n",
      "Epoch 17/30\n",
      "286/286 [==============================] - 2s 6ms/step - loss: 0.0011\n",
      "Epoch 18/30\n",
      "286/286 [==============================] - 2s 6ms/step - loss: 0.0011\n",
      "Epoch 19/30\n",
      "286/286 [==============================] - 2s 5ms/step - loss: 0.0011\n",
      "Epoch 20/30\n",
      "286/286 [==============================] - 2s 5ms/step - loss: 0.0011\n",
      "Epoch 21/30\n",
      "286/286 [==============================] - 2s 6ms/step - loss: 0.0011\n",
      "Epoch 22/30\n",
      "286/286 [==============================] - 2s 5ms/step - loss: 0.0011\n",
      "Epoch 23/30\n",
      "286/286 [==============================] - 2s 6ms/step - loss: 0.0011\n",
      "Epoch 24/30\n",
      "286/286 [==============================] - 2s 5ms/step - loss: 0.0011\n",
      "Epoch 25/30\n",
      "286/286 [==============================] - 2s 5ms/step - loss: 0.0011\n",
      "Epoch 26/30\n",
      "286/286 [==============================] - 2s 6ms/step - loss: 0.0011\n",
      "Epoch 27/30\n",
      "286/286 [==============================] - 2s 6ms/step - loss: 0.0010\n",
      "Epoch 28/30\n",
      "286/286 [==============================] - 2s 6ms/step - loss: 0.0011\n",
      "Epoch 29/30\n",
      "286/286 [==============================] - 2s 5ms/step - loss: 0.0011\n",
      "Epoch 30/30\n",
      "286/286 [==============================] - 2s 6ms/step - loss: 0.0011\n"
     ]
    },
    {
     "data": {
      "text/plain": [
       "<keras.callbacks.callbacks.History at 0x211fa00f588>"
      ]
     },
     "execution_count": 49,
     "metadata": {},
     "output_type": "execute_result"
    }
   ],
   "source": [
    "model.fit(trainX, trainY, epochs=30, batch_size=1, verbose=1)"
   ]
  },
  {
   "cell_type": "code",
   "execution_count": null,
   "metadata": {},
   "outputs": [],
   "source": [
    "#plot train and validation loss curves "
   ]
  },
  {
   "cell_type": "code",
   "execution_count": 50,
   "metadata": {},
   "outputs": [
    {
     "name": "stdout",
     "output_type": "stream",
     "text": [
      "Train Score: 4.66 RMSE\n",
      "Test Score: 5.41 RMSE\n"
     ]
    }
   ],
   "source": [
    "trainPredict = model.predict(trainX)\n",
    "testPredict = model.predict(testX)\n",
    "# invert predictions to get actual values\n",
    "trainPredict = scaler.inverse_transform(trainPredict)\n",
    "trainY = scaler.inverse_transform([trainY])\n",
    "testPredict = scaler.inverse_transform(testPredict)\n",
    "testY = scaler.inverse_transform([testY])\n",
    "# calculate root mean squared error\n",
    "trainScore = math.sqrt(mean_squared_error(trainY[0], trainPredict[:,0]))\n",
    "print('Train Score: %.2f RMSE' % (trainScore))\n",
    "testScore = math.sqrt(mean_squared_error(testY[0], testPredict[:,0]))\n",
    "print('Test Score: %.2f RMSE' % (testScore))"
   ]
  },
  {
   "cell_type": "code",
   "execution_count": 51,
   "metadata": {},
   "outputs": [
    {
     "name": "stdout",
     "output_type": "stream",
     "text": [
      "R^2 score = 0.88\n"
     ]
    }
   ],
   "source": [
    "import sklearn.metrics as sm\n",
    "print(\"R^2 score =\", round(sm.r2_score(testY[0], testPredict), 2))\n",
    "# if R^2 is nearly 1, it's the best case."
   ]
  },
  {
   "cell_type": "code",
   "execution_count": 52,
   "metadata": {},
   "outputs": [
    {
     "data": {
      "image/png": "[encoded data removed]",
      "text/plain": [
       "<Figure size 432x288 with 1 Axes>"
      ]
     },
     "metadata": {
      "needs_background": "light"
     },
     "output_type": "display_data"
    }
   ],
   "source": [
    "# plot expected vs predicted\n",
    "from matplotlib import pyplot\n",
    "pyplot.plot(testY[0], label='Expected')\n",
    "pyplot.plot(testPredict, label='Predicted')\n",
    "pyplot.legend()\n",
    "pyplot.show()"
   ]
  }
 ],
 "metadata": {
  "kernelspec": {
   "name": "python379jvsc74a57bd0b3ba2566441a7c06988d0923437866b63cedc61552a5af99d1f4fb67d367b25f",
   "display_name": "Python 3.7.9 64-bit ('base': conda)"
  },
  "language_info": {
   "codemirror_mode": {
    "name": "ipython",
    "version": 3
   },
   "file_extension": ".py",
   "mimetype": "text/x-python",
   "name": "python",
   "nbconvert_exporter": "python",
   "pygments_lexer": "ipython3",
   "version": "3.7.9"
  }
 },
 "nbformat": 4,
 "nbformat_minor": 4
}